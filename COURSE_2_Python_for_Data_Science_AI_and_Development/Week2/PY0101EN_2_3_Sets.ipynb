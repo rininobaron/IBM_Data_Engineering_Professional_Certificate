{
  "nbformat": 4,
  "nbformat_minor": 0,
  "metadata": {
    "kernelspec": {
      "display_name": "Python 3",
      "language": "python",
      "name": "python3"
    },
    "language_info": {
      "codemirror_mode": {
        "name": "ipython",
        "version": 3
      },
      "file_extension": ".py",
      "mimetype": "text/x-python",
      "name": "python",
      "nbconvert_exporter": "python",
      "pygments_lexer": "ipython3",
      "version": "3.7.6"
    },
    "colab": {
      "name": "PY0101EN-2-3-Sets.ipynb",
      "provenance": [],
      "collapsed_sections": [
        "OQNZFzfGlFb_"
      ]
    }
  },
  "cells": [
    {
      "cell_type": "markdown",
      "metadata": {
        "id": "wGk7zqYNlFZb"
      },
      "source": [
        "<center>\n",
        "    <img src=\"https://cf-courses-data.s3.us.cloud-object-storage.appdomain.cloud/IBMDeveloperSkillsNetwork-PY0101EN-SkillsNetwork/IDSNlogo.png\" width=\"300\" alt=\"cognitiveclass.ai logo\"  />\n",
        "</center>\n",
        "\n",
        "# Sets in Python\n",
        "\n",
        "Estimated time needed: **20** minutes\n",
        "\n",
        "## Objectives\n",
        "\n",
        "After completing this lab you will be able to:\n",
        "\n",
        "*   Work with sets in Python, including operations and logic operations.\n"
      ]
    },
    {
      "cell_type": "markdown",
      "metadata": {
        "id": "VTRIs9IflFZs"
      },
      "source": [
        "<h2>Table of Contents</h2>\n",
        "<div class=\"alert alert-block alert-info\" style=\"margin-thttps://op/?utm_medium=Exinfluencer&utm_source=Exinfluencer&utm_content=000026UJ&utm_term=10006555&utm_id=NA-SkillsNetwork-Channel-SkillsNetworkCoursesIBMDeveloperSkillsNetworkPY0101ENSkillsNetwork19487395-2021-01-01: 20px\">\n",
        "    <ul>\n",
        "        <li>\n",
        "            <a href=\"https://#set\">Sets</a>\n",
        "            <ul>\n",
        "                <li><a href=\"https://content/?utm_medium=Exinfluencer&utm_source=Exinfluencer&utm_content=000026UJ&utm_term=10006555&utm_id=NA-SkillsNetwork-Channel-SkillsNetworkCoursesIBMDeveloperSkillsNetworkPY0101ENSkillsNetwork19487395-2021-01-01\">Set Content</a></li>\n",
        "                <li><a href=\"op\">Set Operations</a></li>\n",
        "                <li><a href=\"https://logic/?utm_medium=Exinfluencer&utm_source=Exinfluencer&utm_content=000026UJ&utm_term=10006555&utm_id=NA-SkillsNetwork-Channel-SkillsNetworkCoursesIBMDeveloperSkillsNetworkPY0101ENSkillsNetwork19487395-2021-01-01\">Sets Logic Operations</a></li>\n",
        "            </ul>\n",
        "        </li>\n",
        "        <li>\n",
        "            <a href=\"https://#quiz\">Quiz on Sets</a>\n",
        "        </li>\n",
        "    </ul>\n",
        "\n",
        "</div>\n",
        "\n",
        "<hr>\n"
      ]
    },
    {
      "cell_type": "markdown",
      "metadata": {
        "id": "SECmlWAzlFZu"
      },
      "source": [
        "<h2 id=\"set\">Sets</h2>\n"
      ]
    },
    {
      "cell_type": "markdown",
      "metadata": {
        "id": "TcpLXgRDlFZw"
      },
      "source": [
        "<h3 id=\"content\">Set Content</h3>\n"
      ]
    },
    {
      "cell_type": "markdown",
      "metadata": {
        "id": "hNHtOSpTlFZ2"
      },
      "source": [
        "A set is a unique collection of objects in Python. You can denote a set with a pair of curly brackets <b>{}</b>. Python will automatically remove duplicate items:\n"
      ]
    },
    {
      "cell_type": "code",
      "metadata": {
        "colab": {
          "base_uri": "https://localhost:8080/"
        },
        "id": "hXQeHVDOlFaB",
        "outputId": "0fa293c2-7429-4102-eee9-b678645a144d"
      },
      "source": [
        "# Create a set\n",
        "\n",
        "set1 = {\"pop\", \"rock\", \"soul\", \"hard rock\", \"rock\", \"R&B\", \"rock\", \"disco\"}\n",
        "set1"
      ],
      "execution_count": 1,
      "outputs": [
        {
          "output_type": "execute_result",
          "data": {
            "text/plain": [
              "{'R&B', 'disco', 'hard rock', 'pop', 'rock', 'soul'}"
            ]
          },
          "metadata": {},
          "execution_count": 1
        }
      ]
    },
    {
      "cell_type": "markdown",
      "metadata": {
        "id": "YavV6CPNlFaF"
      },
      "source": [
        "The process of mapping is illustrated in the figure:\n"
      ]
    },
    {
      "cell_type": "markdown",
      "metadata": {
        "id": "wjSxcyTOlFaL"
      },
      "source": [
        "<img src=\"https://cf-courses-data.s3.us.cloud-object-storage.appdomain.cloud/IBMDeveloperSkillsNetwork-PY0101EN-SkillsNetwork/labs/Module%202/images/SetsUnique.png\" width=\"1100\" />\n"
      ]
    },
    {
      "cell_type": "markdown",
      "metadata": {
        "id": "rLzcouOflFaP"
      },
      "source": [
        "You can also  create a set from a list as follows:\n"
      ]
    },
    {
      "cell_type": "code",
      "metadata": {
        "scrolled": true,
        "colab": {
          "base_uri": "https://localhost:8080/"
        },
        "id": "9y0KPi7DlFaU",
        "outputId": "f1240c30-d695-4cf9-ccfa-f264088232ab"
      },
      "source": [
        "# Convert list to set\n",
        "\n",
        "album_list = [ \"Michael Jackson\", \"Thriller\", 1982, \"00:42:19\", \\\n",
        "              \"Pop, Rock, R&B\", 46.0, 65, \"30-Nov-82\", None, 10.0]\n",
        "album_set = set(album_list)             \n",
        "album_set"
      ],
      "execution_count": 2,
      "outputs": [
        {
          "output_type": "execute_result",
          "data": {
            "text/plain": [
              "{'00:42:19',\n",
              " 10.0,\n",
              " 1982,\n",
              " '30-Nov-82',\n",
              " 46.0,\n",
              " 65,\n",
              " 'Michael Jackson',\n",
              " None,\n",
              " 'Pop, Rock, R&B',\n",
              " 'Thriller'}"
            ]
          },
          "metadata": {},
          "execution_count": 2
        }
      ]
    },
    {
      "cell_type": "markdown",
      "metadata": {
        "id": "3qwEp0pPlFac"
      },
      "source": [
        "Now let us create a set of  genres:\n"
      ]
    },
    {
      "cell_type": "code",
      "metadata": {
        "colab": {
          "base_uri": "https://localhost:8080/"
        },
        "id": "2UJw-gx0lFad",
        "outputId": "5ca50502-a6eb-4567-b33f-a7969a696bd4"
      },
      "source": [
        "# Convert list to set\n",
        "\n",
        "music_genres = set([\"pop\", \"pop\", \"rock\", \"folk rock\", \"hard rock\", \"soul\", \\\n",
        "                    \"progressive rock\", \"soft rock\", \"R&B\", \"disco\"])\n",
        "music_genres"
      ],
      "execution_count": 3,
      "outputs": [
        {
          "output_type": "execute_result",
          "data": {
            "text/plain": [
              "{'R&B',\n",
              " 'disco',\n",
              " 'folk rock',\n",
              " 'hard rock',\n",
              " 'pop',\n",
              " 'progressive rock',\n",
              " 'rock',\n",
              " 'soft rock',\n",
              " 'soul'}"
            ]
          },
          "metadata": {},
          "execution_count": 3
        }
      ]
    },
    {
      "cell_type": "markdown",
      "metadata": {
        "id": "DSCZuTT8lFai"
      },
      "source": [
        "<h3 id=\"op\">Set Operations</h3> \n"
      ]
    },
    {
      "cell_type": "markdown",
      "metadata": {
        "id": "TNGgIYEAlFaj"
      },
      "source": [
        "Let us go over set operations, as these can be used to change the set. Consider the set <b>A</b>:\n"
      ]
    },
    {
      "cell_type": "code",
      "metadata": {
        "colab": {
          "base_uri": "https://localhost:8080/"
        },
        "id": "n70W5t2SlFak",
        "outputId": "395a32c7-36d0-441a-b57a-30c9ee6b3fa4"
      },
      "source": [
        "# Sample set\n",
        "\n",
        "A = set([\"Thriller\", \"Back in Black\", \"AC/DC\"])\n",
        "A"
      ],
      "execution_count": 4,
      "outputs": [
        {
          "output_type": "execute_result",
          "data": {
            "text/plain": [
              "{'AC/DC', 'Back in Black', 'Thriller'}"
            ]
          },
          "metadata": {},
          "execution_count": 4
        }
      ]
    },
    {
      "cell_type": "markdown",
      "metadata": {
        "id": "cQRAg4g_lFal"
      },
      "source": [
        "We can add an element to a set using the <code>add()</code> method:\n"
      ]
    },
    {
      "cell_type": "code",
      "metadata": {
        "colab": {
          "base_uri": "https://localhost:8080/"
        },
        "id": "5vvsmP-MlFam",
        "outputId": "72de6d27-b15a-4be2-f068-28ab9bba5ae0"
      },
      "source": [
        "# Add element to set\n",
        "\n",
        "A.add(\"NSYNC\")\n",
        "A"
      ],
      "execution_count": 5,
      "outputs": [
        {
          "output_type": "execute_result",
          "data": {
            "text/plain": [
              "{'AC/DC', 'Back in Black', 'NSYNC', 'Thriller'}"
            ]
          },
          "metadata": {},
          "execution_count": 5
        }
      ]
    },
    {
      "cell_type": "markdown",
      "metadata": {
        "id": "lWGjYGg-lFan"
      },
      "source": [
        "If we add the same element twice, nothing will happen as there can be no duplicates in a set:\n"
      ]
    },
    {
      "cell_type": "code",
      "metadata": {
        "colab": {
          "base_uri": "https://localhost:8080/"
        },
        "id": "mPZs-cwglFas",
        "outputId": "5e7597db-bbad-4e5b-e075-755a3969df1b"
      },
      "source": [
        "# Try to add duplicate element to the set\n",
        "\n",
        "A.add(\"NSYNC\")\n",
        "A"
      ],
      "execution_count": 6,
      "outputs": [
        {
          "output_type": "execute_result",
          "data": {
            "text/plain": [
              "{'AC/DC', 'Back in Black', 'NSYNC', 'Thriller'}"
            ]
          },
          "metadata": {},
          "execution_count": 6
        }
      ]
    },
    {
      "cell_type": "markdown",
      "metadata": {
        "id": "cnhTrR41lFat"
      },
      "source": [
        "We can remove an item from a set using the <code>remove</code> method:\n"
      ]
    },
    {
      "cell_type": "code",
      "metadata": {
        "colab": {
          "base_uri": "https://localhost:8080/"
        },
        "id": "S3C6z03vlFaw",
        "outputId": "dba8fb32-c897-4c32-b4be-b8ec21e88b5f"
      },
      "source": [
        "# Remove the element from set\n",
        "\n",
        "A.remove(\"NSYNC\")\n",
        "A"
      ],
      "execution_count": 7,
      "outputs": [
        {
          "output_type": "execute_result",
          "data": {
            "text/plain": [
              "{'AC/DC', 'Back in Black', 'Thriller'}"
            ]
          },
          "metadata": {},
          "execution_count": 7
        }
      ]
    },
    {
      "cell_type": "markdown",
      "metadata": {
        "id": "8o5VvVJ6lFaz"
      },
      "source": [
        "We can verify if an element is in the set using the <code>in</code> command:\n"
      ]
    },
    {
      "cell_type": "code",
      "metadata": {
        "colab": {
          "base_uri": "https://localhost:8080/"
        },
        "id": "RG7zltDAlFaz",
        "outputId": "aaeb9bd8-cf13-46fa-b125-e539eb519289"
      },
      "source": [
        "# Verify if the element is in the set\n",
        "\n",
        "\"AC/DC\" in A"
      ],
      "execution_count": 8,
      "outputs": [
        {
          "output_type": "execute_result",
          "data": {
            "text/plain": [
              "True"
            ]
          },
          "metadata": {},
          "execution_count": 8
        }
      ]
    },
    {
      "cell_type": "markdown",
      "metadata": {
        "id": "kA7v5E5KlFa0"
      },
      "source": [
        "<h3 id=\"logic\">Sets Logic Operations</h3>\n"
      ]
    },
    {
      "cell_type": "markdown",
      "metadata": {
        "id": "8-iAbwYXlFa1"
      },
      "source": [
        "Remember that with sets you can check the difference between sets, as well as the symmetric difference, intersection, and union:\n"
      ]
    },
    {
      "cell_type": "markdown",
      "metadata": {
        "id": "xqfXerw5lFa1"
      },
      "source": [
        "Consider the following two sets:\n"
      ]
    },
    {
      "cell_type": "code",
      "metadata": {
        "id": "lTiMachylFa3"
      },
      "source": [
        "# Sample Sets\n",
        "\n",
        "album_set1 = set([\"Thriller\", 'AC/DC', 'Back in Black'])\n",
        "album_set2 = set([ \"AC/DC\", \"Back in Black\", \"The Dark Side of the Moon\"])"
      ],
      "execution_count": 9,
      "outputs": []
    },
    {
      "cell_type": "markdown",
      "metadata": {
        "id": "Ohcr0oKilFa9"
      },
      "source": [
        "<img src=\"https://cf-courses-data.s3.us.cloud-object-storage.appdomain.cloud/IBMDeveloperSkillsNetwork-PY0101EN-SkillsNetwork/labs/Module%202/images/SetsSamples.png\" width=\"650\" />\n"
      ]
    },
    {
      "cell_type": "code",
      "metadata": {
        "scrolled": true,
        "colab": {
          "base_uri": "https://localhost:8080/"
        },
        "id": "nyvRWHeTlFa9",
        "outputId": "8d8013a6-7ca2-4fc5-a59b-6c3fe7ad0e5d"
      },
      "source": [
        "# Print two sets\n",
        "\n",
        "album_set1, album_set2"
      ],
      "execution_count": 10,
      "outputs": [
        {
          "output_type": "execute_result",
          "data": {
            "text/plain": [
              "({'AC/DC', 'Back in Black', 'Thriller'},\n",
              " {'AC/DC', 'Back in Black', 'The Dark Side of the Moon'})"
            ]
          },
          "metadata": {},
          "execution_count": 10
        }
      ]
    },
    {
      "cell_type": "markdown",
      "metadata": {
        "id": "c7w9htaglFa-"
      },
      "source": [
        "As both sets contain <b>AC/DC</b> and <b>Back in Black</b> we represent these common elements with the intersection of two circles.\n"
      ]
    },
    {
      "cell_type": "markdown",
      "metadata": {
        "id": "mKU0ZTvSlFa_"
      },
      "source": [
        "<img src = \"https://cf-courses-data.s3.us.cloud-object-storage.appdomain.cloud/IBMDeveloperSkillsNetwork-PY0101EN-SkillsNetwork/labs/Module%202/images/SetsLogic.png\" width = \"650\" />\n"
      ]
    },
    {
      "cell_type": "markdown",
      "metadata": {
        "id": "ZjtfDIUWlFbC"
      },
      "source": [
        "You can find the intersect of two sets as follow using <code>&</code>:\n"
      ]
    },
    {
      "cell_type": "code",
      "metadata": {
        "colab": {
          "base_uri": "https://localhost:8080/"
        },
        "id": "J6nNg9B-lFbC",
        "outputId": "4a51257b-e3cd-48d1-afdc-0076216f9100"
      },
      "source": [
        "# Find the intersections\n",
        "\n",
        "intersection = album_set1 & album_set2\n",
        "intersection"
      ],
      "execution_count": 11,
      "outputs": [
        {
          "output_type": "execute_result",
          "data": {
            "text/plain": [
              "{'AC/DC', 'Back in Black'}"
            ]
          },
          "metadata": {},
          "execution_count": 11
        }
      ]
    },
    {
      "cell_type": "markdown",
      "metadata": {
        "id": "EnaLzbV2lFbE"
      },
      "source": [
        "You can find all the elements that are only contained in <code>album_set1</code> using the <code>difference</code> method:\n"
      ]
    },
    {
      "cell_type": "code",
      "metadata": {
        "colab": {
          "base_uri": "https://localhost:8080/"
        },
        "id": "NM4TKXJIlFbM",
        "outputId": "a77dd8ac-c1c7-4152-82a8-c44ef39309c3"
      },
      "source": [
        "# Find the difference in set1 but not set2\n",
        "\n",
        "album_set1.difference(album_set2)  "
      ],
      "execution_count": 12,
      "outputs": [
        {
          "output_type": "execute_result",
          "data": {
            "text/plain": [
              "{'Thriller'}"
            ]
          },
          "metadata": {},
          "execution_count": 12
        }
      ]
    },
    {
      "cell_type": "markdown",
      "metadata": {
        "id": "orpOtl6MlFbN"
      },
      "source": [
        "You only need to consider elements in <code>album_set1</code>; all the elements in <code>album_set2</code>, including the intersection, are not included.\n"
      ]
    },
    {
      "cell_type": "markdown",
      "metadata": {
        "id": "DA-H8DJ0lFbN"
      },
      "source": [
        "<img src=\"https://cf-courses-data.s3.us.cloud-object-storage.appdomain.cloud/IBMDeveloperSkillsNetwork-PY0101EN-SkillsNetwork/labs/Module%202/images/SetsLeft.png\" width=\"650\" />\n"
      ]
    },
    {
      "cell_type": "markdown",
      "metadata": {
        "id": "Oae4YqGmlFbO"
      },
      "source": [
        "The elements in <code>album_set2</code> but not in <code>album_set1</code> is given by:\n"
      ]
    },
    {
      "cell_type": "code",
      "metadata": {
        "colab": {
          "base_uri": "https://localhost:8080/"
        },
        "id": "ZaDF3JG6lFbP",
        "outputId": "51130ec9-6bd9-446b-f1cc-03d8fefa8823"
      },
      "source": [
        "album_set2.difference(album_set1)  "
      ],
      "execution_count": 13,
      "outputs": [
        {
          "output_type": "execute_result",
          "data": {
            "text/plain": [
              "{'The Dark Side of the Moon'}"
            ]
          },
          "metadata": {},
          "execution_count": 13
        }
      ]
    },
    {
      "cell_type": "markdown",
      "metadata": {
        "id": "n3w8U1zQlFbS"
      },
      "source": [
        "<img src = \"https://cf-courses-data.s3.us.cloud-object-storage.appdomain.cloud/IBMDeveloperSkillsNetwork-PY0101EN-SkillsNetwork/labs/Module%202/images/SetsRight.png\" width=\"650\" />\n"
      ]
    },
    {
      "cell_type": "markdown",
      "metadata": {
        "id": "9f7ukXV9lFbU"
      },
      "source": [
        "You can also find the intersection of <code>album_list1</code> and <code>album_list2</code>, using the <code>intersection</code> method:\n"
      ]
    },
    {
      "cell_type": "code",
      "metadata": {
        "colab": {
          "base_uri": "https://localhost:8080/"
        },
        "id": "0-lFUtMklFbU",
        "outputId": "41094512-0ec1-4475-8dbb-a7000d7e48fa"
      },
      "source": [
        "# Use intersection method to find the intersection of album_list1 and album_list2\n",
        "\n",
        "album_set1.intersection(album_set2)   "
      ],
      "execution_count": 14,
      "outputs": [
        {
          "output_type": "execute_result",
          "data": {
            "text/plain": [
              "{'AC/DC', 'Back in Black'}"
            ]
          },
          "metadata": {},
          "execution_count": 14
        }
      ]
    },
    {
      "cell_type": "markdown",
      "metadata": {
        "id": "ZJgGRvnflFbV"
      },
      "source": [
        "This corresponds to the intersection of the two circles:\n"
      ]
    },
    {
      "cell_type": "markdown",
      "metadata": {
        "id": "23KhWpialFbV"
      },
      "source": [
        "<img src=\"https://cf-courses-data.s3.us.cloud-object-storage.appdomain.cloud/IBMDeveloperSkillsNetwork-PY0101EN-SkillsNetwork/labs/Module%202/images/SetsIntersect.png\" width=\"650\" />\n"
      ]
    },
    {
      "cell_type": "markdown",
      "metadata": {
        "id": "eO_8J4JdlFbW"
      },
      "source": [
        "The union corresponds to all the elements in both sets, which is represented by coloring both circles:\n"
      ]
    },
    {
      "cell_type": "markdown",
      "metadata": {
        "id": "wooY6fAnlFbW"
      },
      "source": [
        "<img src = \"https://cf-courses-data.s3.us.cloud-object-storage.appdomain.cloud/IBMDeveloperSkillsNetwork-PY0101EN-SkillsNetwork/labs/Module%202/images/SetsUnion.png\" width=\"650\" />\n"
      ]
    },
    {
      "cell_type": "markdown",
      "metadata": {
        "id": "RpRA1JGzlFbW"
      },
      "source": [
        "The union is given by:\n"
      ]
    },
    {
      "cell_type": "code",
      "metadata": {
        "collapsed": true,
        "colab": {
          "base_uri": "https://localhost:8080/"
        },
        "id": "cV9l1kiklFbY",
        "outputId": "f11606ab-2e18-4717-9596-ade77de2731d"
      },
      "source": [
        "# Find the union of two sets\n",
        "\n",
        "album_set1.union(album_set2)"
      ],
      "execution_count": 15,
      "outputs": [
        {
          "output_type": "execute_result",
          "data": {
            "text/plain": [
              "{'AC/DC', 'Back in Black', 'The Dark Side of the Moon', 'Thriller'}"
            ]
          },
          "metadata": {},
          "execution_count": 15
        }
      ]
    },
    {
      "cell_type": "markdown",
      "metadata": {
        "id": "vgH-JP4wlFbf"
      },
      "source": [
        "And you can check if a set is a superset or subset of another set, respectively, like this:\n"
      ]
    },
    {
      "cell_type": "code",
      "metadata": {
        "colab": {
          "base_uri": "https://localhost:8080/"
        },
        "id": "7tipSeeLlFbi",
        "outputId": "1819aace-ddf5-4b67-e699-c82ef360d728"
      },
      "source": [
        "# Check if superset\n",
        "\n",
        "set(album_set1).issuperset(album_set2)   "
      ],
      "execution_count": 16,
      "outputs": [
        {
          "output_type": "execute_result",
          "data": {
            "text/plain": [
              "False"
            ]
          },
          "metadata": {},
          "execution_count": 16
        }
      ]
    },
    {
      "cell_type": "code",
      "metadata": {
        "colab": {
          "base_uri": "https://localhost:8080/"
        },
        "id": "6SE12XlBlFbj",
        "outputId": "45e91d56-7a8c-4efb-f9d8-fbb37bc6afe3"
      },
      "source": [
        "# Check if subset\n",
        "\n",
        "set(album_set2).issubset(album_set1)     "
      ],
      "execution_count": 17,
      "outputs": [
        {
          "output_type": "execute_result",
          "data": {
            "text/plain": [
              "False"
            ]
          },
          "metadata": {},
          "execution_count": 17
        }
      ]
    },
    {
      "cell_type": "markdown",
      "metadata": {
        "id": "S8K_shablFbl"
      },
      "source": [
        "Here is an example where <code>issubset()</code> and <code>issuperset()</code> return true:\n"
      ]
    },
    {
      "cell_type": "code",
      "metadata": {
        "colab": {
          "base_uri": "https://localhost:8080/"
        },
        "id": "P2198minlFbm",
        "outputId": "88ad5e6e-9cdd-42bd-c610-8c3ab7c6ea3c"
      },
      "source": [
        "# Check if subset\n",
        "\n",
        "set({\"Back in Black\", \"AC/DC\"}).issubset(album_set1) "
      ],
      "execution_count": 18,
      "outputs": [
        {
          "output_type": "execute_result",
          "data": {
            "text/plain": [
              "True"
            ]
          },
          "metadata": {},
          "execution_count": 18
        }
      ]
    },
    {
      "cell_type": "code",
      "metadata": {
        "colab": {
          "base_uri": "https://localhost:8080/"
        },
        "id": "g9lyBZublFbm",
        "outputId": "50db4c18-6532-483f-d66f-85cbc1a8eca7"
      },
      "source": [
        "# Check if superset\n",
        "\n",
        "album_set1.issuperset({\"Back in Black\", \"AC/DC\"})   "
      ],
      "execution_count": 19,
      "outputs": [
        {
          "output_type": "execute_result",
          "data": {
            "text/plain": [
              "True"
            ]
          },
          "metadata": {},
          "execution_count": 19
        }
      ]
    },
    {
      "cell_type": "markdown",
      "metadata": {
        "id": "kXjnzdTzlFbn"
      },
      "source": [
        "<hr>\n"
      ]
    },
    {
      "cell_type": "markdown",
      "metadata": {
        "id": "Vm9szxCjlFbn"
      },
      "source": [
        "<h2 id=\"quiz\">Quiz on Sets</h2>\n"
      ]
    },
    {
      "cell_type": "markdown",
      "metadata": {
        "id": "FeCFsLqplFbo"
      },
      "source": [
        "Convert the list <code>\\['rap','house','electronic music', 'rap']</code> to a set:\n"
      ]
    },
    {
      "cell_type": "code",
      "metadata": {
        "colab": {
          "base_uri": "https://localhost:8080/"
        },
        "id": "F6FotwPilFbo",
        "outputId": "45d6030d-0bfd-408b-dedd-748b862058c0"
      },
      "source": [
        "# Write your code below and press Shift+Enter to execute\n",
        "set(['rap','house','electronic music', 'rap'])"
      ],
      "execution_count": 20,
      "outputs": [
        {
          "output_type": "execute_result",
          "data": {
            "text/plain": [
              "{'electronic music', 'house', 'rap'}"
            ]
          },
          "metadata": {},
          "execution_count": 20
        }
      ]
    },
    {
      "cell_type": "markdown",
      "metadata": {
        "id": "AofcSI38lFbp"
      },
      "source": [
        "<details><summary>Click here for the solution</summary>\n",
        "\n",
        "```python\n",
        "set(['rap','house','electronic music','rap'])\n",
        "\n",
        "```\n",
        "\n",
        "</details>\n"
      ]
    },
    {
      "cell_type": "markdown",
      "metadata": {
        "id": "3kIBNOBPlFbp"
      },
      "source": [
        "<hr>\n"
      ]
    },
    {
      "cell_type": "markdown",
      "metadata": {
        "id": "cp_H599AlFbs"
      },
      "source": [
        "Consider the list <code>A = \\[1, 2, 2, 1]</code> and set <code>B = set(\\[1, 2, 2, 1])</code>, does <code>sum(A) == sum(B)</code>?\n"
      ]
    },
    {
      "cell_type": "code",
      "metadata": {
        "colab": {
          "base_uri": "https://localhost:8080/"
        },
        "id": "HpElwsg1lFb3",
        "outputId": "42c3e21e-d699-487a-c25b-ad7d3762a980"
      },
      "source": [
        "# Write your code below and press Shift+Enter to execute\n",
        "A = [1, 2, 2, 1] \n",
        "B = set([1, 2, 2, 1])\n",
        "\n",
        "sum(A) == sum(B)"
      ],
      "execution_count": 21,
      "outputs": [
        {
          "output_type": "execute_result",
          "data": {
            "text/plain": [
              "False"
            ]
          },
          "metadata": {},
          "execution_count": 21
        }
      ]
    },
    {
      "cell_type": "markdown",
      "metadata": {
        "id": "d3fU7rs9lFb3"
      },
      "source": [
        "<details><summary>Click here for the solution</summary>\n",
        "\n",
        "```python\n",
        "A = [1, 2, 2, 1]  \n",
        "B = set([1, 2, 2, 1])\n",
        "print(\"the sum of A is:\", sum(A))\n",
        "print(\"the sum of B is:\", sum(B))\n",
        "\n",
        "```\n",
        "\n",
        "</details>\n"
      ]
    },
    {
      "cell_type": "markdown",
      "metadata": {
        "id": "Ec3fGx43lFb3"
      },
      "source": [
        "<hr>\n"
      ]
    },
    {
      "cell_type": "markdown",
      "metadata": {
        "id": "8I19Yaw0lFb5"
      },
      "source": [
        "Create a new set <code>album_set3</code> that is the union of <code>album_set1</code> and <code>album_set2</code>:\n"
      ]
    },
    {
      "cell_type": "code",
      "metadata": {
        "colab": {
          "base_uri": "https://localhost:8080/"
        },
        "id": "sUlXF11rlFb5",
        "outputId": "595569ad-5fe6-4c04-ead0-e8bcdf4fc476"
      },
      "source": [
        "# Write your code below and press Shift+Enter to execute\n",
        "\n",
        "album_set1 = set([\"Thriller\", 'AC/DC', 'Back in Black'])\n",
        "album_set2 = set([ \"AC/DC\", \"Back in Black\", \"The Dark Side of the Moon\"])\n",
        "\n",
        "album_set3 = album_set2.union(album_set1)\n",
        "album_set3"
      ],
      "execution_count": 22,
      "outputs": [
        {
          "output_type": "execute_result",
          "data": {
            "text/plain": [
              "{'AC/DC', 'Back in Black', 'The Dark Side of the Moon', 'Thriller'}"
            ]
          },
          "metadata": {},
          "execution_count": 22
        }
      ]
    },
    {
      "cell_type": "markdown",
      "metadata": {
        "id": "RpSieyYwlFb6"
      },
      "source": [
        "<details><summary>Click here for the solution</summary>\n",
        "\n",
        "```python\n",
        "album_set3 = album_set1.union(album_set2)\n",
        "album_set3\n",
        "\n",
        "```\n",
        "\n",
        "</details>\n"
      ]
    },
    {
      "cell_type": "markdown",
      "metadata": {
        "id": "Q64JGIJalFb7"
      },
      "source": [
        "<hr>\n"
      ]
    },
    {
      "cell_type": "markdown",
      "metadata": {
        "id": "0_ZcjXVGlFb7"
      },
      "source": [
        "Find out if <code>album_set1</code> is a subset of <code>album_set3</code>:\n"
      ]
    },
    {
      "cell_type": "code",
      "metadata": {
        "colab": {
          "base_uri": "https://localhost:8080/"
        },
        "id": "i97Sg1J_lFb8",
        "outputId": "6ee0689a-8732-46c4-b593-6d3051a39f37"
      },
      "source": [
        "# Write your code below and press Shift+Enter to execute\n",
        "album_set1.issubset(album_set3)"
      ],
      "execution_count": 24,
      "outputs": [
        {
          "output_type": "execute_result",
          "data": {
            "text/plain": [
              "True"
            ]
          },
          "metadata": {},
          "execution_count": 24
        }
      ]
    },
    {
      "cell_type": "markdown",
      "metadata": {
        "id": "4b71wI9tlFb9"
      },
      "source": [
        "<details><summary>Click here for the solution</summary>\n",
        "\n",
        "```python\n",
        "album_set1.issubset(album_set3)\n",
        "\n",
        "```\n",
        "\n",
        "</details>\n"
      ]
    },
    {
      "cell_type": "markdown",
      "metadata": {
        "id": "XrCdRO6jlFb9"
      },
      "source": [
        "<hr>\n",
        "<h2>The last exercise!</h2>\n",
        "<p>Congratulations, you have completed your first lesson and hands-on lab in Python. However, there is one more thing you need to do. The Data Science community encourages sharing work. The best way to share and showcase your work is to share it on GitHub. By sharing your notebook on GitHub you are not only building your reputation with fellow data scientists, but you can also show it off when applying for a job. Even though this was your first piece of work, it is never too early to start building good habits. So, please read and follow <a href=\"https://cognitiveclass.ai/blog/data-scientists-stand-out-by-sharing-your-notebooks/?utm_medium=Exinfluencer&utm_source=Exinfluencer&utm_content=000026UJ&utm_term=10006555&utm_id=NA-SkillsNetwork-Channel-SkillsNetworkCoursesIBMDeveloperSkillsNetworkPY0101ENSkillsNetwork19487395-2021-01-01\" target=\"_blank\">this article</a> to learn how to share your work.\n",
        "<hr>\n"
      ]
    },
    {
      "cell_type": "markdown",
      "metadata": {
        "id": "OQNZFzfGlFb_"
      },
      "source": [
        "## Author\n",
        "\n",
        "<a href=\"https://www.linkedin.com/in/joseph-s-50398b136/?utm_medium=Exinfluencer&utm_source=Exinfluencer&utm_content=000026UJ&utm_term=10006555&utm_id=NA-SkillsNetwork-Channel-SkillsNetworkCoursesIBMDeveloperSkillsNetworkPY0101ENSkillsNetwork19487395-2021-01-01\" target=\"_blank\">Joseph Santarcangelo</a>\n",
        "\n",
        "## Other contributors\n",
        "\n",
        "<a href=\"https://www.linkedin.com/in/jiahui-mavis-zhou-a4537814a?utm_medium=Exinfluencer&utm_source=Exinfluencer&utm_content=000026UJ&utm_term=10006555&utm_id=NA-SkillsNetwork-Channel-SkillsNetworkCoursesIBMDeveloperSkillsNetworkPY0101ENSkillsNetwork19487395-2021-01-01\">Mavis Zhou</a>\n",
        "\n",
        "## Change Log\n",
        "\n",
        "| Date (YYYY-MM-DD) | Version | Changed By | Change Description                 |\n",
        "| ----------------- | ------- | ---------- | ---------------------------------- |\n",
        "| 2020-08-26        | 2.0     | Lavanya    | Moved lab to course repo in GitLab |\n",
        "|                   |         |            |                                    |\n",
        "|                   |         |            |                                    |\n",
        "\n",
        "## <h3 align=\"center\"> © IBM Corporation 2020. All rights reserved. <h3/>\n"
      ]
    }
  ]
}